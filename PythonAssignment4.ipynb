{
 "cells": [
  {
   "cell_type": "code",
   "execution_count": 26,
   "metadata": {},
   "outputs": [
    {
     "name": "stdout",
     "output_type": "stream",
     "text": [
      "Enter the first side : 3\n",
      "Enter the second side : 4\n",
      "Enter the thrid side : 5\n",
      "The area of the Triangle 12.73\n"
     ]
    }
   ],
   "source": [
    "#1.1 Write a Python Program(with class concepts) to find the area of the triangle using the below\n",
    "#formula.\n",
    "\n",
    "#area = (s*(s-a)*(s-b)*(s-c)) ** 0.5\n",
    "\n",
    "'''Function to take the length of the sides of triangle from user should be defined in the parent\n",
    "class and function to calculate the area should be defined in subclass.'''\n",
    "\n",
    "\n",
    "class parent_class:\n",
    "    \n",
    "    def __init__(self):\n",
    "    \n",
    "        self.a = float(input(\"Enter the first side : \"))\n",
    "        self.b = float(input(\"Enter the second side : \"))\n",
    "        self.c = float(input(\"Enter the thrid side : \"))\n",
    "        \n",
    "        self.s = (self.a+self.b+self.c)/2 # semi-perimeter\n",
    "        \n",
    "        \n",
    "        return None\n",
    "        \n",
    "        \n",
    "class child_class(parent_class):\n",
    "\n",
    "    '''Writing these two lines of code will not disturb the code flow'''\n",
    "#     def __init__(self,*args):\n",
    "#         super(child_class,self).__init__(*args)\n",
    "    \n",
    "    def area(self):\n",
    "        ar = (self.s*(self.s-self.a)*(self.s-self.a)*(self.s-self.a))**0.5 # area of a triangle.\n",
    "        print(\"The area of the Triangle %0.2f\" %ar)\n",
    "        \n",
    "        \n",
    "a = child_class()\n",
    "a.area()"
   ]
  },
  {
   "cell_type": "code",
   "execution_count": 30,
   "metadata": {},
   "outputs": [
    {
     "name": "stdout",
     "output_type": "stream",
     "text": [
      "Enter the number n : 3\n",
      "['abcd', 'abcde', 'abcdef', 'abcdefg']\n"
     ]
    }
   ],
   "source": [
    "'''1.2 Write a function filter_long_words() that takes a list of words and an integer n and returns\n",
    "the list of words that are longer than n.'''\n",
    "\n",
    "\n",
    "lst=['a','ab','abc','abcd','abcde','abcdef','abcdefg']\n",
    "n = int(input(\"Enter the number n : \"))\n",
    "def filter_long_words(lst,n):\n",
    "    b=[]\n",
    "    for i in lst:        \n",
    "        if(len(i)>3):\n",
    "            b.append(i)\n",
    "    return b\n",
    "\n",
    "z = filter_long_words(lst,n)\n",
    "print(z)\n",
    "        \n",
    "           \n",
    "    \n",
    "\n"
   ]
  },
  {
   "cell_type": "code",
   "execution_count": 36,
   "metadata": {},
   "outputs": [
    {
     "name": "stdout",
     "output_type": "stream",
     "text": [
      "[1, 2, 3, 4, 5, 6, 7]\n"
     ]
    }
   ],
   "source": [
    "'''2.1 Write a Python program using function concept that maps list of words into a list of integers\n",
    "representing the lengths of the corresponding words.\n",
    "Hint: If a list [ ab,cde,erty] is passed on to the python function output should come as [2,3,4]\n",
    "Here 2,3 and 4 are the lengths of the words in the list.'''\n",
    "\n",
    "\n",
    "lst=['a','ab','abc','abcd','abcde','abcdef','abcdefg']\n",
    "a=[]\n",
    "def len_function(lst):\n",
    "    for i in lst:\n",
    "        a.append(len(i))\n",
    "    return a\n",
    "\n",
    "\n",
    "b = len_function(lst)\n",
    "\n",
    "print(b)\n",
    "\n"
   ]
  },
  {
   "cell_type": "code",
   "execution_count": 39,
   "metadata": {},
   "outputs": [
    {
     "name": "stdout",
     "output_type": "stream",
     "text": [
      "False\n"
     ]
    }
   ],
   "source": [
    "'''2.2 Write a Python function which takes a character (i.e. a string of length 1) and returns True if\n",
    "it is a vowel, False otherwise.'''\n",
    "\n",
    "\n",
    "\n",
    "def vowel(b):\n",
    "    a=['a','e','i','o','u']\n",
    "    if(b in a):\n",
    "        return True\n",
    "    else:\n",
    "        return False\n",
    "    \n",
    "c = vowel('z')\n",
    "print(c)\n",
    "    "
   ]
  }
 ],
 "metadata": {
  "kernelspec": {
   "display_name": "tensorflow_1",
   "language": "python",
   "name": "tensorflow_1"
  },
  "language_info": {
   "codemirror_mode": {
    "name": "ipython",
    "version": 3
   },
   "file_extension": ".py",
   "mimetype": "text/x-python",
   "name": "python",
   "nbconvert_exporter": "python",
   "pygments_lexer": "ipython3",
   "version": "3.6.9"
  }
 },
 "nbformat": 4,
 "nbformat_minor": 4
}
