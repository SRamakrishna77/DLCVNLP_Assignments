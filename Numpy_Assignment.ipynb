{
 "cells": [
  {
   "cell_type": "code",
   "execution_count": 1,
   "metadata": {},
   "outputs": [],
   "source": [
    "import numpy as np\n",
    "import pandas as pd\n"
   ]
  },
  {
   "cell_type": "markdown",
   "metadata": {},
   "source": [
    "#### https://numpy.org/doc/stable/reference/generated/numpy.vander.html"
   ]
  },
  {
   "cell_type": "code",
   "execution_count": 3,
   "metadata": {},
   "outputs": [
    {
     "data": {
      "text/plain": [
       "array([[ 1,  1,  1],\n",
       "       [ 4,  2,  1],\n",
       "       [ 9,  3,  1],\n",
       "       [16,  4,  1],\n",
       "       [25,  5,  1]], dtype=int32)"
      ]
     },
     "execution_count": 3,
     "metadata": {},
     "output_type": "execute_result"
    }
   ],
   "source": [
    "#Got inspired from the explanation of above link\n",
    "x = np.array([1,2,3,4,5])\n",
    "N=3\n",
    "np.column_stack([x**(N-1-i) for i in range(N)])\n"
   ]
  },
  {
   "cell_type": "code",
   "execution_count": 26,
   "metadata": {},
   "outputs": [
    {
     "name": "stdout",
     "output_type": "stream",
     "text": [
      "Enter the flat matrix input vector size in number below 5: 3\n",
      "[1, 2, 3]\n",
      "<class 'list'>\n"
     ]
    }
   ],
   "source": [
    "# vector = input(\"Enter the flat matrix input vector size in number below 5: \") # vector size of restricted for our convinience\n",
    "# vector = list([i for i in range(1,int(vector)+1)])\n",
    "# print(vector)\n",
    "# print(type(vector))"
   ]
  },
  {
   "cell_type": "code",
   "execution_count": 30,
   "metadata": {},
   "outputs": [],
   "source": [
    "#Writing a custom function which gives Vander matrix output as result:\n",
    "\n",
    "\n",
    "def inputVector_to_VanderMatrix(vector=None,power=None,increase=None):\n",
    "    \n",
    "    if increase =='True':\n",
    "        x_vm = np.column_stack([vector**(power-1-i) for i in range(power)])\n",
    "    elif increase=='False':\n",
    "        x_vm = np.column_stack([vector**(i) for i in range(power)])\n",
    "    else:\n",
    "        return None\n",
    "        \n",
    "    return x_vm\n",
    "    \n",
    "\n",
    "            \n",
    "  \n",
    "    \n",
    "    "
   ]
  },
  {
   "cell_type": "code",
   "execution_count": 33,
   "metadata": {},
   "outputs": [
    {
     "name": "stdout",
     "output_type": "stream",
     "text": [
      "Enter the flat matrix input vector size in number below 5: 3\n",
      "Enter number to which power,  matrix should be calculated : 3\n",
      "Enter the value for increase of the power(True/False) : False\n"
     ]
    },
    {
     "data": {
      "text/plain": [
       "array([[1, 1, 1],\n",
       "       [1, 2, 4],\n",
       "       [1, 3, 9]], dtype=int32)"
      ]
     },
     "execution_count": 33,
     "metadata": {},
     "output_type": "execute_result"
    }
   ],
   "source": [
    "vector = input(\"Enter the flat matrix input vector size in number below 5: \") # vector size of restricted for our convinience\n",
    "vector = list([i for i in range(1,int(vector)+1)])\n",
    "power = input(\"Enter number to which power,  matrix should be calculated : \")\n",
    "power =int(power)\n",
    "increase = input(\"Enter the value for increase of the power(True/False) : \")\n",
    "vector = np.array(vector)\n",
    "VM = inputVector_to_VanderMatrix(vector,power,increase)   \n",
    "                               \n",
    "VM "
   ]
  },
  {
   "cell_type": "markdown",
   "metadata": {},
   "source": [
    "## Question 2\n"
   ]
  },
  {
   "cell_type": "code",
   "execution_count": 34,
   "metadata": {},
   "outputs": [
    {
     "data": {
      "text/plain": [
       "'Question: Write a function to find moving average in an array over a window:\\nTest it over [3, 5, 7, 2, 8, 10, 11, 65, 72, 81, 99, 100, 150] and window of 3.'"
      ]
     },
     "execution_count": 34,
     "metadata": {},
     "output_type": "execute_result"
    }
   ],
   "source": [
    "'''Question: Write a function to find moving average in an array over a window:\n",
    "Test it over [3, 5, 7, 2, 8, 10, 11, 65, 72, 81, 99, 100, 150] and window of 3.'''"
   ]
  },
  {
   "cell_type": "code",
   "execution_count": 353,
   "metadata": {},
   "outputs": [],
   "source": [
    "arr = [3, 5, 7, 2, 8, 10, 11, 65, 72, 81, 99, 100, 150]\n",
    "# w = 3"
   ]
  },
  {
   "cell_type": "code",
   "execution_count": 355,
   "metadata": {},
   "outputs": [
    {
     "name": "stdout",
     "output_type": "stream",
     "text": [
      "[5.0, 4.666666666666667, 5.666666666666667, 6.666666666666667, 9.666666666666666, 28.666666666666668, 49.333333333333336, 72.66666666666667, 84.0, 93.33333333333333, 116.33333333333333]\n"
     ]
    }
   ],
   "source": [
    "def m_average(arr,n):\n",
    "    temp_sum = sum(arr[:n])\n",
    "    avg = [temp_sum / float(n)]\n",
    "    temp_sum=0\n",
    "    m=(len(arr)-n+1)\n",
    "\n",
    "    for i in range(0,m):\n",
    "        if((len(arr)-i)<=n):\n",
    "            break\n",
    "        a=(i+1)\n",
    "        b=(n+i)+1\n",
    "#         print(\"i = \",i)\n",
    "#         print(\"m = \",m)\n",
    "\n",
    "        for indx,val in enumerate(arr[a:b]):\n",
    "#             print(\"Entered 2nd for loop :\" )\n",
    "#             print(indx,val)\n",
    "            temp_sum = temp_sum+val\n",
    "#             print(temp_sum)\n",
    "        avg.append(temp_sum/float(n))\n",
    "        temp_sum=0\n",
    "#         print(avg)\n",
    "\n",
    "    return avg\n",
    "    \n",
    "        \n",
    "            \n",
    "        \n",
    "    \n",
    "    \n",
    "a =m_average(arr,3)\n",
    "print(a)            \n",
    "\n"
   ]
  }
 ],
 "metadata": {
  "kernelspec": {
   "display_name": "Python 3",
   "language": "python",
   "name": "python3"
  },
  "language_info": {
   "codemirror_mode": {
    "name": "ipython",
    "version": 3
   },
   "file_extension": ".py",
   "mimetype": "text/x-python",
   "name": "python",
   "nbconvert_exporter": "python",
   "pygments_lexer": "ipython3",
   "version": "3.8.3"
  }
 },
 "nbformat": 4,
 "nbformat_minor": 4
}
