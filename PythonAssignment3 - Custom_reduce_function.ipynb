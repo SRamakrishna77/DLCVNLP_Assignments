{
 "cells": [
  {
   "cell_type": "code",
   "execution_count": 2,
   "metadata": {},
   "outputs": [
    {
     "name": "stdout",
     "output_type": "stream",
     "text": [
      "15\n"
     ]
    }
   ],
   "source": [
    "\n",
    "#Creating a custom reduce function which works like python reduce function:\n",
    "\n",
    "def custom_reduce(cfunc,arr):\n",
    "    fst_elmt = arr[0]\n",
    "    for i in arr[1:]:\n",
    "        fst_elmt = cfunc(fst_elmt,i)\n",
    "    return fst_elmt\n",
    "    \n",
    "    \n",
    "def custom_add(x,y):\n",
    "    return x+y\n",
    "    \n",
    "a =[1,2,3,4,5]\n",
    "b = custom_reduce(custom_add,a)\n",
    "\n",
    "print(b)\n"
   ]
  },
  {
   "cell_type": "code",
   "execution_count": 7,
   "metadata": {},
   "outputs": [
    {
     "name": "stdout",
     "output_type": "stream",
     "text": [
      "[3, 6, 9]\n"
     ]
    }
   ],
   "source": [
    "#Creating a custom filter function which works like python filter fucntion\n",
    "\n",
    "#Creating a filter function divisible by 3\n",
    "\n",
    "def DivBy3(x):\n",
    "    if x%3==0:\n",
    "        return True\n",
    "    else:\n",
    "        return False\n",
    "    \n",
    "\n",
    "def custom_filter(c_func,arr):\n",
    "    a=[]\n",
    "    for i in arr:\n",
    "        b = c_func(i)\n",
    "        if b:\n",
    "            a.append(i)\n",
    "        \n",
    "    return a\n",
    "\n",
    "\n",
    "abc = custom_filter(DivBy3,[1,2,3,4,5,6,7,8,9])       \n",
    "print(abc)\n",
    "    \n",
    "    \n"
   ]
  },
  {
   "cell_type": "code",
   "execution_count": 152,
   "metadata": {},
   "outputs": [
    {
     "name": "stdout",
     "output_type": "stream",
     "text": [
      "['x', 'xx', 'xxx', 'xxxx', 'y', 'yy', 'yyy', 'yyyy', 'z', 'zz', 'zzz', 'zzzz']\n",
      "['x', 'y', 'z', 'xx', 'yy', 'zz', 'xxx', 'yyy', 'zzz', 'xxxx', 'yyyy', 'zzzz']\n"
     ]
    }
   ],
   "source": [
    "#Write the list comprehension function to display the following results\n",
    "\n",
    "# ['x','xx','xxx','xxxx','y','yy','yyy','yyyy','z','zz','zzz','zzzz']\n",
    "\n",
    "# ['x','y','z','xx','yy','zz','xxx','yyy','zzz','xxxx','yyyy','zzzz']\n",
    "\n",
    "# [[2],[3],[4],[3],[4],[5],[4],[5],[6]] [[2,3,4,5],[3,4,5,6],[4,5,6,7],[5,6,7,8]]\n",
    "\n",
    "# [(1, 1), (2, 1), (3, 1), (1, 2), (2, 2), (3, 2), (1, 3), (2, 3), (3, 3)]\n",
    "\n",
    "\n",
    "\n",
    "\n",
    "#1. ['x','xx','xxx','xxxx','y','yy','yyy','yyyy','z','zz','zzz','zzzz']\n",
    "lst_a=['x','y','z']\n",
    "lst_b=[]\n",
    "lst_b = [ j*i for i in lst_a for j in range(1,5) ]\n",
    "print(lst_b)\n",
    "\n",
    "\n",
    "#2\n",
    "lst_a=['x','y','z']\n",
    "lst_b=[] \n",
    "lst_b = [ lst_a[j] if i==0 else lst_a[j]*(i+1) for i in range(0,len(lst_a)+1) for j in range(0,len(lst_a))  ]\n",
    "print(lst_b)"
   ]
  },
  {
   "cell_type": "code",
   "execution_count": 153,
   "metadata": {},
   "outputs": [
    {
     "name": "stdout",
     "output_type": "stream",
     "text": [
      "x\n",
      "y\n",
      "z\n",
      "xx\n",
      "yy\n",
      "zz\n",
      "xxx\n",
      "yyy\n",
      "zzz\n",
      "xxxx\n",
      "yyyy\n",
      "zzzz\n"
     ]
    }
   ],
   "source": [
    "for i in range(0,len(lst_a)+1):\n",
    "    for j in range(0,len(lst_a)):\n",
    "        if(i==0):\n",
    "            print(lst_a[j])\n",
    "        else:\n",
    "            print(lst_a[j]*(i+1))"
   ]
  },
  {
   "cell_type": "code",
   "execution_count": 162,
   "metadata": {},
   "outputs": [
    {
     "name": "stdout",
     "output_type": "stream",
     "text": [
      "[(1, 1), (2, 1), (3, 1), (1, 2), (2, 2), (3, 2), (1, 3), (2, 3), (3, 3)]\n"
     ]
    }
   ],
   "source": [
    "#Tuple output\n",
    "# [(1, 1), (2, 1), (3, 1), (1, 2), (2, 2), (3, 2), (1, 3), (2, 3), (3, 3)]\n",
    "\n",
    "a=()\n",
    "\n",
    "x=(1,2,3)\n",
    "\n",
    "a = [(x[j],x[i]) for i in range(len(x)) for j in range(len(x)) ]\n",
    "print(a)"
   ]
  },
  {
   "cell_type": "code",
   "execution_count": null,
   "metadata": {},
   "outputs": [],
   "source": [
    "##Not able to understand the requirement\n",
    "Request you to explain me the correct context in the requirment so that I would work on the solution. Thanks Regards\n",
    "# [[2],[3],[4],[3],[4],[5],[4],[5],[6]] [[2,3,4,5],[3,4,5,6],[4,5,6,7],[5,6,7,8]]"
   ]
  }
 ],
 "metadata": {
  "kernelspec": {
   "display_name": "tensorflow_1",
   "language": "python",
   "name": "tensorflow_1"
  },
  "language_info": {
   "codemirror_mode": {
    "name": "ipython",
    "version": 3
   },
   "file_extension": ".py",
   "mimetype": "text/x-python",
   "name": "python",
   "nbconvert_exporter": "python",
   "pygments_lexer": "ipython3",
   "version": "3.6.9"
  }
 },
 "nbformat": 4,
 "nbformat_minor": 4
}
